{
  "cells": [
    {
      "cell_type": "markdown",
      "metadata": {
        "id": "view-in-github",
        "colab_type": "text"
      },
      "source": [
        "<a href=\"https://colab.research.google.com/github/vhcsdev/whisper/blob/main/notebooks/transcricao_whisper.ipynb\" target=\"_parent\"><img src=\"https://colab.research.google.com/assets/colab-badge.svg\" alt=\"Open In Colab\"/></a>"
      ]
    },
    {
      "cell_type": "markdown",
      "metadata": {
        "id": "_E3N4C5sw4Dy"
      },
      "source": [
        "# Baixando o áudio de um vídeo do YouTube"
      ]
    },
    {
      "cell_type": "markdown",
      "source": [
        "Links:\n",
        "\n",
        "https://openai.com/research/whisper\n",
        "\n",
        "https://pypi.org/project/openai-whisper/\n",
        "\n",
        "https://pypi.org/project/yt-dlp/\n"
      ],
      "metadata": {
        "id": "CgQ7E365-CHf"
      }
    },
    {
      "cell_type": "code",
      "execution_count": null,
      "metadata": {
        "id": "5VY5YeUwv9_7",
        "collapsed": true
      },
      "outputs": [],
      "source": [
        "!pip install git+https://github.com/openai/whisper.git\n",
        "!pip install yt-dlp openai"
      ]
    },
    {
      "cell_type": "code",
      "source": [
        "video_url = 'https://www.youtube.com/watch?v=ohuXlby_8iU'"
      ],
      "metadata": {
        "id": "Gj2nGc9wJwvi"
      },
      "execution_count": 2,
      "outputs": []
    },
    {
      "cell_type": "code",
      "source": [
        "!yt-dlp -x -f bestaudio --audio-format mp3 -o \"%(id)s.%(ext)s\" $video_url"
      ],
      "metadata": {
        "id": "ssRdVdSiK2_g",
        "collapsed": true
      },
      "execution_count": null,
      "outputs": []
    },
    {
      "cell_type": "markdown",
      "source": [
        "# Transcrição de textos em Português com whisper (OpenAI)"
      ],
      "metadata": {
        "id": "55AXNHcqRl7C"
      }
    },
    {
      "cell_type": "markdown",
      "source": [
        "## Modelos disponíveis\n",
        "\n",
        "Você pode escolher qual o tamanho de modelo deseja usar. Os tamanhos impactam na qualidade do resultado e no tempo de processamento (quanto melhor a qualidade, mais tempo de processamento). A escolha entre eles também está à qualidade do áudio: se poluído com ruídos, provavelmente será necessário um modelo com maior qualidade para conseguir transcrever corretamente.\n",
        "\n",
        "A lista de possíveis modelos é, do mais rápido para o fim o maior qualidade:\n",
        "\n",
        "- tiny\n",
        "- base\n",
        "- small\n",
        "- medium\n",
        "- large"
      ],
      "metadata": {
        "id": "-r4JF8esMMyc"
      }
    },
    {
      "cell_type": "code",
      "source": [
        "import whisper"
      ],
      "metadata": {
        "id": "hfROlh4mJwyj"
      },
      "execution_count": 4,
      "outputs": []
    },
    {
      "cell_type": "code",
      "source": [
        "model = whisper.load_model('large')\n",
        "result = model.transcribe('ohuXlby_8iU.mp3')"
      ],
      "metadata": {
        "id": "AsJOBCrKMGNj"
      },
      "execution_count": null,
      "outputs": []
    },
    {
      "cell_type": "code",
      "source": [
        "print(f'Result ==> Video: i6l3R7j95x8  Model: Medium <==')\n",
        "for sentence in result[\"text\"].split('.'):\n",
        "  print(sentence)"
      ],
      "metadata": {
        "id": "y1WbehPCRR1i",
        "collapsed": true
      },
      "execution_count": null,
      "outputs": []
    },
    {
      "cell_type": "code",
      "source": [
        "with open('i6l3R7j95x8-medium.txt', \"w\") as result_text_file:\n",
        "  text = result3[\"text\"].split('.')\n",
        "  for sentence in text:\n",
        "    result_text_file.write(sentence)\n",
        "    result_text_file.write('\\n')"
      ],
      "metadata": {
        "id": "4PdrjOw2P3Xh"
      },
      "execution_count": null,
      "outputs": []
    },
    {
      "cell_type": "code",
      "source": [],
      "metadata": {
        "id": "CoOlOIeY6C0N"
      },
      "execution_count": null,
      "outputs": []
    }
  ],
  "metadata": {
    "colab": {
      "provenance": [],
      "gpuType": "T4",
      "include_colab_link": true
    },
    "kernelspec": {
      "display_name": "Python 3",
      "name": "python3"
    },
    "language_info": {
      "name": "python"
    },
    "accelerator": "GPU"
  },
  "nbformat": 4,
  "nbformat_minor": 0
}